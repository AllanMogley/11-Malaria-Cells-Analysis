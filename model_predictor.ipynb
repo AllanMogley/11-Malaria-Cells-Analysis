{
 "cells": [
  {
   "cell_type": "markdown",
   "metadata": {},
   "source": [
    "\n",
    "### 01 - Data Exploration\n",
    "![purple-divider](https://user-images.githubusercontent.com/7065401/52071927-c1cd7100-2562-11e9-908a-dde91ba14e59.png)\n"
   ]
  },
  {
   "cell_type": "code",
   "execution_count": null,
   "metadata": {},
   "outputs": [],
   "source": [
    "import os\n",
    "import numpy as np\n",
    "import matplotlib.pyplot as plt\n",
    "import tensorflow as tf\n",
    "import tensorflow_datasets as tfds\n",
    "from tensorflow.keras.models import load_model # type: ignore\n",
    "from tensorflow.keras.preprocessing import image  # type: ignore\n",
    "from sklearn.model_selection import train_test_split\n",
    "from PIL import Image"
   ]
  },
  {
   "cell_type": "code",
   "execution_count": null,
   "metadata": {},
   "outputs": [],
   "source": [
    "# Download Malaria datasets from tensorflow datasets API\n",
    "ds, info = tfds.load('malaria', split='train', shuffle_files=True, with_info=True)"
   ]
  },
  {
   "cell_type": "code",
   "execution_count": null,
   "metadata": {},
   "outputs": [],
   "source": [
    "# Define a function to save the images\n",
    "def save_images(dataset, folder_path, limit):\n",
    "    for i, example in enumerate(dataset):\n",
    "        # Stop saving images after reaching the limit\n",
    "        if i >= limit:\n",
    "            break\n",
    "\n",
    "        # Get the image from the example\n",
    "        image = example[\"image\"].numpy()\n",
    "        \n",
    "        # Convert the image array to an Image object\n",
    "        image = Image.fromarray(image)\n",
    "        \n",
    "        # Save the image\n",
    "        image.save(os.path.join(folder_path, f'image_{i}.png'))\n",
    "\n",
    "# Create a directory if it doesn't exist\n",
    "if not os.path.exists('Images'):\n",
    "    os.makedirs('Images')\n",
    "\n",
    "# Call the function to save the images\n",
    "save_images(ds, 'Images', 50)"
   ]
  },
  {
   "cell_type": "code",
   "execution_count": null,
   "metadata": {},
   "outputs": [],
   "source": [
    "# Specify the path to your saved model\n",
    "model_path = 'malaria_model_2.keras'\n",
    "\n",
    "# Load the model\n",
    "model2 = tf.keras.models.load_model(model_path)\n",
    "\n",
    "# Evaluate Model\n",
    "model2.summary()"
   ]
  },
  {
   "cell_type": "code",
   "execution_count": null,
   "metadata": {},
   "outputs": [],
   "source": [
    "folder_path = 'Images'\n",
    "\n",
    "# load all images into a list\n",
    "images = []\n",
    "image_list = []\n",
    "for img in os.listdir(folder_path):\n",
    "    img_path = os.path.join(folder_path, img)\n",
    "    img = image.load_img(img_path)\n",
    "    \n",
    "    # ----------------------------------------------------\n",
    "    # Add an extra dimension (for batch size)\n",
    "    img = tf.expand_dims(img, axis=0)\n",
    "    # Define the target size\n",
    "    target_size = [200, 200]\n",
    "    # Crop or pad the image\n",
    "    img_resized = tf.image.resize_with_crop_or_pad(img, target_size[0], target_size[1])\n",
    "    # Remove the extra dimension\n",
    "    img_resized = tf.squeeze(img_resized, axis=0)\n",
    "    # Convert the image back to PIL format\n",
    "    img_array = image.array_to_img(img_resized)\n",
    "    # ----------------------------------------------------\n",
    "    \n",
    "    # img_array = image.img_to_array(img)\n",
    "    img_array = np.expand_dims(img_array, axis=0)\n",
    "    images.append(img_array)\n",
    "    image_list.append(img)\n",
    "\n",
    "# stack up images list to pass for prediction\n",
    "images = np.vstack(images)\n",
    "classes = model2.predict(images, batch_size=10)\n",
    "\n",
    "# Convert predictions to class names based on the threshold\n",
    "class_names_predicted = ['Parasitized' if classes < 0.5\n",
    "                         else 'Uninfected' for classes in classes]\n",
    "\n",
    "# print(classes)"
   ]
  },
  {
   "cell_type": "code",
   "execution_count": null,
   "metadata": {},
   "outputs": [],
   "source": [
    "# Plot the images along with their predicted classes\n",
    "fig = plt.figure(figsize=(10, 10))\n",
    "for i in range(min(20, len(image_list))):  # Limit the number of images to 10\n",
    "    ax = fig.add_subplot(5, 4, i+1)\n",
    "    ax.imshow(images[i])\n",
    "    ax.set_title(class_names_predicted[i])\n",
    "    ax.yaxis.set_visible(False)\n",
    "    ax.xaxis.set_ticks([])\n",
    "plt.tight_layout()\n",
    "plt.show()"
   ]
  }
 ],
 "metadata": {
  "kernelspec": {
   "display_name": "DSC",
   "language": "python",
   "name": "python3"
  },
  "language_info": {
   "codemirror_mode": {
    "name": "ipython",
    "version": 3
   },
   "file_extension": ".py",
   "mimetype": "text/x-python",
   "name": "python",
   "nbconvert_exporter": "python",
   "pygments_lexer": "ipython3",
   "version": "3.10.12"
  }
 },
 "nbformat": 4,
 "nbformat_minor": 2
}
