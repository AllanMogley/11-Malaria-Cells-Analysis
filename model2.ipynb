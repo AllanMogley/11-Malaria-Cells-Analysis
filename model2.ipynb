{
 "cells": [
  {
   "cell_type": "markdown",
   "metadata": {},
   "source": [
    "\n",
    "### 01 - Data Exploration\n",
    "![purple-divider](https://user-images.githubusercontent.com/7065401/52071927-c1cd7100-2562-11e9-908a-dde91ba14e59.png)\n"
   ]
  },
  {
   "cell_type": "code",
   "execution_count": null,
   "metadata": {},
   "outputs": [],
   "source": [
    "import os\n",
    "import numpy as np\n",
    "import matplotlib.pyplot as plt\n",
    "import tensorflow as tf\n",
    "import tensorflow_datasets as tfds\n",
    "from tensorflow.keras.models import load_model # type: ignore\n",
    "from tensorflow.keras.preprocessing import image  # type: ignore\n",
    "from sklearn.model_selection import train_test_split\n",
    "from PIL import Image\n",
    "import glob"
   ]
  },
  {
   "cell_type": "code",
   "execution_count": 3,
   "metadata": {},
   "outputs": [
    {
     "name": "stdout",
     "output_type": "stream",
     "text": [
      "Num classes: 2\n",
      "Class names: ['parasitized', 'uninfected']\n"
     ]
    }
   ],
   "source": [
    "# Load data and Explore Classes\n",
    "# ===================================================================\n",
    "\n",
    "ds, info = tfds.load('malaria', split='train', shuffle_files=True, with_info=True)\n",
    "print(\"Num classes: \" + str(info.features['label'].num_classes))\n",
    "print(\"Class names: \" + str(info.features['label'].names))\n",
    "\n",
    "# Visualize Data\n",
    "# ===================================================================\n",
    "\n",
    "# vis = tfds.visualization.show_examples(ds, info)"
   ]
  },
  {
   "cell_type": "markdown",
   "metadata": {},
   "source": [
    "\n",
    "### 02 - Data Preparation\n",
    "![purple-divider](https://user-images.githubusercontent.com/7065401/52071927-c1cd7100-2562-11e9-908a-dde91ba14e59.png)\n"
   ]
  },
  {
   "cell_type": "code",
   "execution_count": 4,
   "metadata": {},
   "outputs": [],
   "source": [
    "# Load data\n",
    "# Then Divide the data into 70:15:15 ratio\n",
    "# ===================================================================\n",
    "\n",
    "BATCH_SIZE = 32\n",
    "IMAGE_SIZE = [200, 200]\n",
    "\n",
    "train_ds, val_ds, test_ds = tfds.load('malaria',split = ['train[:70%]',\n",
    "                                                         'train[70%:85%]',\n",
    "                                                         'train[85%:]'],\n",
    "                                      shuffle_files = True,\n",
    "                                      as_supervised = True)\n"
   ]
  },
  {
   "cell_type": "code",
   "execution_count": 5,
   "metadata": {},
   "outputs": [],
   "source": [
    "# Not all images are of size (200, 200)\n",
    "# Crop bigger images as well as pad smaller ones to attain (200, 200)\n",
    "# ===================================================================\n",
    "\n",
    "def convert(image, label):\n",
    "  # Convert image to a 32 bit\n",
    "  image = tf.image.convert_image_dtype(image, tf.float32)\n",
    "  return image, label\n",
    "\n",
    "def pad(image,label):\n",
    "  # Crop or Pad image\n",
    "  image,label = convert(image, label)\n",
    "  image = tf.image.resize_with_crop_or_pad(image, 200, 200)\n",
    "  return image,label\n",
    "\n",
    "\n",
    "# Apply the functions to train and val images\n",
    "# ===================================================================\n",
    "\n",
    "padded_train_ds = (\n",
    "    train_ds\n",
    "    .cache()\n",
    "    .map(pad)\n",
    "    .batch(BATCH_SIZE)\n",
    ") \n",
    "\n",
    "padded_val_ds = (\n",
    "    val_ds\n",
    "    .cache()\n",
    "    .map(pad)\n",
    "    .batch(BATCH_SIZE)\n",
    ") "
   ]
  },
  {
   "cell_type": "markdown",
   "metadata": {},
   "source": [
    "\n",
    "### 03 - Model Buidling\n",
    "![purple-divider](https://user-images.githubusercontent.com/7065401/52071927-c1cd7100-2562-11e9-908a-dde91ba14e59.png)\n"
   ]
  },
  {
   "cell_type": "code",
   "execution_count": 7,
   "metadata": {},
   "outputs": [],
   "source": [
    "# Build the CNN layers\n",
    "# We define our convolution layers as well as our dense block\n",
    "# ===================================================================\n",
    "\n",
    "def conv_block(filters):\n",
    "    block = tf.keras.Sequential([\n",
    "        tf.keras.layers.SeparableConv2D(filters, 3, activation='relu', padding='same'),\n",
    "        tf.keras.layers.SeparableConv2D(filters, 3, activation='relu', padding='same'),\n",
    "        tf.keras.layers.BatchNormalization(),\n",
    "        tf.keras.layers.MaxPool2D()\n",
    "    ]\n",
    "    )\n",
    "    return block\n",
    "\n",
    "def dense_block(units, dropout_rate):\n",
    "    block = tf.keras.Sequential([\n",
    "        tf.keras.layers.Dense(units, activation='relu'),\n",
    "        tf.keras.layers.BatchNormalization(),\n",
    "        tf.keras.layers.Dropout(dropout_rate)\n",
    "    ])\n",
    "    return block"
   ]
  },
  {
   "cell_type": "code",
   "execution_count": 9,
   "metadata": {},
   "outputs": [],
   "source": [
    "# Build and Compile the model\n",
    "# ===================================================================\n",
    "\n",
    "def build_model():\n",
    "    model = tf.keras.Sequential([\n",
    "        tf.keras.Input(shape=(IMAGE_SIZE[0], IMAGE_SIZE[1], 3)),\n",
    "        \n",
    "        tf.keras.layers.Conv2D(16, 3, activation='relu', padding='same'),\n",
    "        tf.keras.layers.Conv2D(16, 3, activation='relu', padding='same'),\n",
    "        tf.keras.layers.MaxPool2D(),\n",
    "        \n",
    "        conv_block(32),\n",
    "        conv_block(64),\n",
    "        \n",
    "        conv_block(128),\n",
    "        tf.keras.layers.Dropout(0.2),\n",
    "        \n",
    "        conv_block(256),\n",
    "        tf.keras.layers.Dropout(0.2),\n",
    "        \n",
    "        tf.keras.layers.Flatten(),\n",
    "        dense_block(512, 0.7),\n",
    "        dense_block(128, 0.5),\n",
    "        dense_block(64, 0.3),\n",
    "        \n",
    "        tf.keras.layers.Dense(1, activation='sigmoid')\n",
    "    ])\n",
    "    \n",
    "    return model\n",
    "\n",
    "\n",
    "\n",
    "# Compile the model\n",
    "# ===================================================================\n",
    "\n",
    "model = build_model()\n",
    "\n",
    "model.compile(\n",
    "    optimizer='adam',\n",
    "    loss='binary_crossentropy',\n",
    "    metrics=[tf.keras.metrics.AUC(name='auc')]\n",
    ")"
   ]
  },
  {
   "cell_type": "code",
   "execution_count": null,
   "metadata": {},
   "outputs": [],
   "source": [
    "# Adjust Hyperparameters\n",
    "# Set the model Learning Rate\n",
    "# Save only the best calculated weights from the model\n",
    "# ===================================================================\n",
    "\n",
    "# Save the model\n",
    "checkpoint_cb = tf.keras.callbacks.ModelCheckpoint(\"malaria_model_2.keras\",\n",
    "                                                    save_best_only=True)\n",
    "\n",
    "# Set the model to stop training if no more features are being learnt\n",
    "early_stopping_cb = tf.keras.callbacks.EarlyStopping(patience=5,\n",
    "                                                     restore_best_weights=True)\n",
    "\n",
    "# Model Learning rate\n",
    "def exponential_decay(lr0, s):\n",
    "    def exponential_decay_fn(epoch):\n",
    "        return lr0 * 0.1 **(epoch / s)\n",
    "    return exponential_decay_fn\n",
    "\n",
    "exponential_decay_fn = exponential_decay(0.01, 20)\n",
    "\n",
    "lr_scheduler = tf.keras.callbacks.LearningRateScheduler(exponential_decay_fn)"
   ]
  },
  {
   "cell_type": "markdown",
   "metadata": {},
   "source": [
    "\n",
    "### 04 - Train and Evaluate Model\n",
    "![purple-divider](https://user-images.githubusercontent.com/7065401/52071927-c1cd7100-2562-11e9-908a-dde91ba14e59.png)\n"
   ]
  },
  {
   "cell_type": "code",
   "execution_count": null,
   "metadata": {},
   "outputs": [],
   "source": [
    "# Train Model\n",
    "# ===================================================================\n",
    "\n",
    "history = model.fit(\n",
    "    padded_train_ds, epochs=20,\n",
    "    validation_data=padded_val_ds,\n",
    "    callbacks=[checkpoint_cb, early_stopping_cb, lr_scheduler]\n",
    ")"
   ]
  },
  {
   "cell_type": "code",
   "execution_count": null,
   "metadata": {},
   "outputs": [],
   "source": [
    "# Evaluate Model\n",
    "# ===================================================================\n",
    "\n",
    "padded_test_ds = (\n",
    "     test_ds\n",
    "    .cache()\n",
    "    .map(pad)\n",
    "    .batch(BATCH_SIZE)\n",
    ") \n",
    "\n",
    "model.evaluate(padded_test_ds)\n",
    "# model.summary()"
   ]
  },
  {
   "cell_type": "markdown",
   "metadata": {},
   "source": [
    "\n",
    "### 05 - Test Predictions\n",
    "![purple-divider](https://user-images.githubusercontent.com/7065401/52071927-c1cd7100-2562-11e9-908a-dde91ba14e59.png)\n"
   ]
  },
  {
   "cell_type": "code",
   "execution_count": 12,
   "metadata": {},
   "outputs": [],
   "source": [
    "# Download Malaria datasets from tensorflow datasets API\n",
    "ds, info = tfds.load('malaria', split='train', shuffle_files=True, with_info=True)"
   ]
  },
  {
   "cell_type": "code",
   "execution_count": 14,
   "metadata": {},
   "outputs": [],
   "source": [
    "# Define a function to save the images\n",
    "def save_images(dataset, folder_path, limit):\n",
    "    for i, example in enumerate(dataset):\n",
    "        # Stop saving images after reaching the limit\n",
    "        if i >= limit:\n",
    "            break\n",
    "\n",
    "        # Get the image from the example\n",
    "        image = example[\"image\"].numpy()\n",
    "        \n",
    "        # Convert the image array to an Image object\n",
    "        image = Image.fromarray(image)\n",
    "        \n",
    "        # Save the image\n",
    "        image.save(os.path.join(folder_path, f'image_{i}.png'))\n",
    "\n",
    "# Create a directory if it doesn't exist\n",
    "if not os.path.exists('Images'):\n",
    "    os.makedirs('Images')\n",
    "\n",
    "# Call the function to save the images\n",
    "save_images(ds, 'Images', 50)"
   ]
  },
  {
   "cell_type": "code",
   "execution_count": null,
   "metadata": {},
   "outputs": [],
   "source": [
    "# Specify the path to your saved model\n",
    "model_path = 'malaria_model_2.keras'\n",
    "\n",
    "# Load the model\n",
    "model2 = tf.keras.models.load_model(model_path)"
   ]
  },
  {
   "cell_type": "code",
   "execution_count": null,
   "metadata": {},
   "outputs": [],
   "source": [
    "folder_path = 'Images'\n",
    "\n",
    "# load all images into a list\n",
    "images = []\n",
    "image_list = []\n",
    "for img in os.listdir(folder_path):\n",
    "    img_path = os.path.join(folder_path, img)\n",
    "    img = image.load_img(img_path)\n",
    "    \n",
    "    # ----------------------------------------------------\n",
    "    # Add an extra dimension (for batch size)\n",
    "    img = tf.expand_dims(img, axis=0)\n",
    "    # Define the target size\n",
    "    target_size = [200, 200]\n",
    "    # Crop or pad the image\n",
    "    img_resized = tf.image.resize_with_crop_or_pad(img, target_size[0], target_size[1])\n",
    "    # Remove the extra dimension\n",
    "    img_resized = tf.squeeze(img_resized, axis=0)\n",
    "    # Convert the image back to PIL format\n",
    "    img_array = image.array_to_img(img_resized)\n",
    "    # ----------------------------------------------------\n",
    "    \n",
    "    # img_array = image.img_to_array(img)\n",
    "    img_array = np.expand_dims(img_array, axis=0)\n",
    "    images.append(img_array)\n",
    "    image_list.append(img)\n",
    "\n",
    "# stack up images list to pass for prediction\n",
    "images = np.vstack(images)\n",
    "classes = model2.predict(images, batch_size=10)\n",
    "\n",
    "# Convert predictions to class names based on the threshold\n",
    "class_names_predicted = ['Parasitized' if classes < 0.5\n",
    "                         else 'Uninfected' for classes in classes]\n",
    "\n",
    "# print(classes)"
   ]
  },
  {
   "cell_type": "code",
   "execution_count": null,
   "metadata": {},
   "outputs": [],
   "source": [
    "# Plot the images along with their predicted classes\n",
    "fig = plt.figure(figsize=(10, 10))\n",
    "for i in range(min(20, len(image_list))):  # Limit the number of images to 10\n",
    "    ax = fig.add_subplot(5, 4, i+1)\n",
    "    ax.imshow(images[i])\n",
    "    ax.set_title(class_names_predicted[i])\n",
    "    ax.yaxis.set_visible(False)\n",
    "    ax.xaxis.set_ticks([])\n",
    "plt.tight_layout()\n",
    "plt.show()"
   ]
  }
 ],
 "metadata": {
  "kernelspec": {
   "display_name": "DSC",
   "language": "python",
   "name": "python3"
  },
  "language_info": {
   "codemirror_mode": {
    "name": "ipython",
    "version": 3
   },
   "file_extension": ".py",
   "mimetype": "text/x-python",
   "name": "python",
   "nbconvert_exporter": "python",
   "pygments_lexer": "ipython3",
   "version": "3.10.12"
  }
 },
 "nbformat": 4,
 "nbformat_minor": 2
}
