{
 "cells": [
  {
   "cell_type": "markdown",
   "metadata": {},
   "source": [
    "\n",
    "### 01 - Data Exploration\n",
    "![purple-divider](https://user-images.githubusercontent.com/7065401/52071927-c1cd7100-2562-11e9-908a-dde91ba14e59.png)\n"
   ]
  },
  {
   "cell_type": "code",
   "execution_count": null,
   "metadata": {},
   "outputs": [],
   "source": [
    "import numpy as np\n",
    "import matplotlib.pyplot as plt\n",
    "import tensorflow as tf\n",
    "import tensorflow_datasets as tfds\n",
    "from sklearn.model_selection import train_test_split"
   ]
  },
  {
   "cell_type": "code",
   "execution_count": null,
   "metadata": {},
   "outputs": [],
   "source": [
    "# Load data and Explore Classes\n",
    "# ===================================================================\n",
    "\n",
    "ds, info = tfds.load('malaria', split='train', shuffle_files=True, with_info=True)\n",
    "print(\"Num classes: \" + str(info.features['label'].num_classes))\n",
    "print(\"Class names: \" + str(info.features['label'].names))\n",
    "\n",
    "# Visualize Data\n",
    "# ===================================================================\n",
    "\n",
    "# vis = tfds.visualization.show_examples(ds, info)"
   ]
  },
  {
   "cell_type": "markdown",
   "metadata": {},
   "source": [
    "\n",
    "### 02 - Data Preparation\n",
    "![purple-divider](https://user-images.githubusercontent.com/7065401/52071927-c1cd7100-2562-11e9-908a-dde91ba14e59.png)\n"
   ]
  },
  {
   "cell_type": "code",
   "execution_count": 11,
   "metadata": {},
   "outputs": [],
   "source": [
    "# Load data\n",
    "# Then Divide the data into 70:15:15 ratio\n",
    "# ===================================================================\n",
    "\n",
    "BATCH_SIZE = 32\n",
    "IMAGE_SIZE = [200, 200]\n",
    "\n",
    "train_ds, val_ds, test_ds = tfds.load('malaria',\n",
    "                                      split = ['train[:70%]',\n",
    "                                               'train[70%:85%]',\n",
    "                                               'train[85%:]'],\n",
    "                                      shuffle_files = True,\n",
    "                                      as_supervised = True)\n"
   ]
  },
  {
   "cell_type": "code",
   "execution_count": 12,
   "metadata": {},
   "outputs": [],
   "source": [
    "# Not all images are of size (200, 200)\n",
    "# Crop bigger images as well as pad smaller ones to attain (200, 200)\n",
    "# ===================================================================\n",
    "\n",
    "def convert(image, label):\n",
    "  image = tf.image.convert_image_dtype(image, tf.float32)\n",
    "  return image, label\n",
    "\n",
    "def pad(image,label):\n",
    "  image,label = convert(image, label)\n",
    "  image = tf.image.resize_with_crop_or_pad(image, 200, 200)\n",
    "  return image,label\n",
    "\n",
    "\n",
    "# Apply the functions to train and val images\n",
    "# ===================================================================\n",
    "\n",
    "padded_train_ds = (\n",
    "    train_ds\n",
    "    .cache()\n",
    "    .map(pad)\n",
    "    .batch(BATCH_SIZE)\n",
    ") \n",
    "\n",
    "padded_val_ds = (\n",
    "    val_ds\n",
    "    .cache()\n",
    "    .map(pad)\n",
    "    .batch(BATCH_SIZE)\n",
    ") "
   ]
  },
  {
   "cell_type": "markdown",
   "metadata": {},
   "source": [
    "\n",
    "### 03 - Model Buidling\n",
    "![purple-divider](https://user-images.githubusercontent.com/7065401/52071927-c1cd7100-2562-11e9-908a-dde91ba14e59.png)\n"
   ]
  },
  {
   "cell_type": "code",
   "execution_count": 13,
   "metadata": {},
   "outputs": [],
   "source": [
    "# Build the CNN layers\n",
    "# We define our convolution layers as well as our dense block\n",
    "# ===================================================================\n",
    "\n",
    "def conv_block(filters):\n",
    "    block = tf.keras.Sequential([\n",
    "        tf.keras.layers.SeparableConv2D(filters, 3, activation='relu', padding='same'),\n",
    "        tf.keras.layers.SeparableConv2D(filters, 3, activation='relu', padding='same'),\n",
    "        tf.keras.layers.BatchNormalization(),\n",
    "        tf.keras.layers.MaxPool2D()\n",
    "    ]\n",
    "    )\n",
    "    \n",
    "    return block\n",
    "\n",
    "def dense_block(units, dropout_rate):\n",
    "    block = tf.keras.Sequential([\n",
    "        tf.keras.layers.Dense(units, activation='relu'),\n",
    "        tf.keras.layers.BatchNormalization(),\n",
    "        tf.keras.layers.Dropout(dropout_rate)\n",
    "    ])\n",
    "    \n",
    "    return block"
   ]
  },
  {
   "cell_type": "code",
   "execution_count": 16,
   "metadata": {},
   "outputs": [],
   "source": [
    "# We then define our model\n",
    "# ===================================================================\n",
    "\n",
    "def build_model():\n",
    "    model = tf.keras.Sequential([\n",
    "        tf.keras.Input(shape=(IMAGE_SIZE[0], IMAGE_SIZE[1], 3)),\n",
    "        \n",
    "        tf.keras.layers.Conv2D(16, 3, activation='relu', padding='same'),\n",
    "        tf.keras.layers.Conv2D(16, 3, activation='relu', padding='same'),\n",
    "        tf.keras.layers.MaxPool2D(),\n",
    "        \n",
    "        conv_block(32),\n",
    "        conv_block(64),\n",
    "        \n",
    "        conv_block(128),\n",
    "        tf.keras.layers.Dropout(0.2),\n",
    "        \n",
    "        conv_block(256),\n",
    "        tf.keras.layers.Dropout(0.2),\n",
    "        \n",
    "        tf.keras.layers.Flatten(),\n",
    "        dense_block(512, 0.7),\n",
    "        dense_block(128, 0.5),\n",
    "        dense_block(64, 0.3),\n",
    "        \n",
    "        tf.keras.layers.Dense(1, activation='sigmoid')\n",
    "    ])\n",
    "    \n",
    "    return model\n",
    "\n",
    "\n",
    "\n",
    "# Compile the model\n",
    "# ===================================================================\n",
    "\n",
    "model = build_model()\n",
    "\n",
    "model.compile(\n",
    "    optimizer='adam',\n",
    "    loss='binary_crossentropy',\n",
    "    metrics=[tf.keras.metrics.AUC(name='auc')]\n",
    ")"
   ]
  },
  {
   "cell_type": "code",
   "execution_count": null,
   "metadata": {},
   "outputs": [],
   "source": [
    "# Adjust Hyperparameters\n",
    "# Set the model Learning Rate\n",
    "# Save only the best calculated weights from the model\n",
    "# ===================================================================\n",
    "\n",
    "checkpoint_cb = tf.keras.callbacks.ModelCheckpoint(\"malaria_model.keras\",\n",
    "                                                    save_best_only=True)\n",
    "\n",
    "early_stopping_cb = tf.keras.callbacks.EarlyStopping(patience=5,\n",
    "                                                     restore_best_weights=True)\n",
    "\n",
    "def exponential_decay(lr0, s):\n",
    "    def exponential_decay_fn(epoch):\n",
    "        return lr0 * 0.1 **(epoch / s)\n",
    "    return exponential_decay_fn\n",
    "\n",
    "exponential_decay_fn = exponential_decay(0.01, 20)\n",
    "\n",
    "lr_scheduler = tf.keras.callbacks.LearningRateScheduler(exponential_decay_fn)"
   ]
  },
  {
   "cell_type": "markdown",
   "metadata": {},
   "source": [
    "\n",
    "### 04 - Train and Evaluate Model\n",
    "![purple-divider](https://user-images.githubusercontent.com/7065401/52071927-c1cd7100-2562-11e9-908a-dde91ba14e59.png)\n"
   ]
  },
  {
   "cell_type": "code",
   "execution_count": null,
   "metadata": {},
   "outputs": [],
   "source": [
    "# Train Model\n",
    "# ===================================================================\n",
    "\n",
    "history = model.fit(\n",
    "    padded_train_ds, epochs=20,\n",
    "    validation_data=padded_val_ds,\n",
    "    callbacks=[checkpoint_cb, early_stopping_cb, lr_scheduler]\n",
    ")"
   ]
  },
  {
   "cell_type": "code",
   "execution_count": null,
   "metadata": {},
   "outputs": [],
   "source": [
    "# Evaluate Model\n",
    "# ===================================================================\n",
    "padded_test_ds = (\n",
    "     test_ds\n",
    "    .cache()\n",
    "    .map(pad)\n",
    "    .batch(BATCH_SIZE)\n",
    ")"
   ]
  },
  {
   "cell_type": "code",
   "execution_count": null,
   "metadata": {},
   "outputs": [],
   "source": [
    "model.evaluate(padded_test_ds)\n",
    "model.summary()"
   ]
  }
 ],
 "metadata": {
  "kernelspec": {
   "display_name": "DSC",
   "language": "python",
   "name": "python3"
  },
  "language_info": {
   "codemirror_mode": {
    "name": "ipython",
    "version": 3
   },
   "file_extension": ".py",
   "mimetype": "text/x-python",
   "name": "python",
   "nbconvert_exporter": "python",
   "pygments_lexer": "ipython3",
   "version": "3.10.12"
  }
 },
 "nbformat": 4,
 "nbformat_minor": 2
}
